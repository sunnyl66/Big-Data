{
 "cells": [
  {
   "cell_type": "code",
   "execution_count": 2,
   "metadata": {},
   "outputs": [
    {
     "data": {
      "text/plain": [
       "<pyspark.context.SparkContext at 0x60a4c50>"
      ]
     },
     "execution_count": 2,
     "metadata": {},
     "output_type": "execute_result"
    }
   ],
   "source": [
    "sc"
   ]
  },
  {
   "cell_type": "code",
   "execution_count": 3,
   "metadata": {
    "collapsed": true
   },
   "outputs": [],
   "source": [
    "df = spark.read.csv('nyc_restaurants.csv', \n",
    "                    header = True, \n",
    "                    inferSchema = True)"
   ]
  },
  {
   "cell_type": "code",
   "execution_count": 4,
   "metadata": {},
   "outputs": [
    {
     "data": {
      "text/plain": [
       "[('CAMIS', 'int'),\n",
       " ('DBA', 'string'),\n",
       " ('BORO', 'string'),\n",
       " ('BUILDING', 'string'),\n",
       " ('STREET', 'string'),\n",
       " ('ZIPCODE', 'string'),\n",
       " ('PHONE', 'string'),\n",
       " ('CUISINE DESCRIPTION', 'string'),\n",
       " ('INSPECTION DATE', 'string'),\n",
       " ('ACTION', 'string'),\n",
       " ('VIOLATION CODE', 'string'),\n",
       " ('VIOLATION DESCRIPTION', 'string'),\n",
       " ('CRITICAL FLAG', 'string'),\n",
       " ('SCORE', 'int'),\n",
       " ('GRADE', 'string'),\n",
       " ('GRADE DATE', 'string'),\n",
       " ('RECORD DATE', 'string'),\n",
       " ('INSPECTION TYPE', 'string')]"
      ]
     },
     "execution_count": 4,
     "metadata": {},
     "output_type": "execute_result"
    }
   ],
   "source": [
    "df.dtypes"
   ]
  },
  {
   "cell_type": "code",
   "execution_count": 5,
   "metadata": {
    "collapsed": true
   },
   "outputs": [],
   "source": [
    "dfCuisine = df.select(df['`CUISINE DESCRIPTION`'])"
   ]
  },
  {
   "cell_type": "code",
   "execution_count": 6,
   "metadata": {},
   "outputs": [
    {
     "name": "stdout",
     "output_type": "stream",
     "text": [
      "+--------------------+\n",
      "| CUISINE DESCRIPTION|\n",
      "+--------------------+\n",
      "|             Chicken|\n",
      "|       Jewish/Kosher|\n",
      "|           Caribbean|\n",
      "|             Italian|\n",
      "|              Korean|\n",
      "|              Donuts|\n",
      "|Sandwiches/Salads...|\n",
      "|            American|\n",
      "|            American|\n",
      "|Juice, Smoothies,...|\n",
      "|       Pizza/Italian|\n",
      "|       Mediterranean|\n",
      "|            American|\n",
      "|            American|\n",
      "|            American|\n",
      "|            Japanese|\n",
      "|             Chinese|\n",
      "|        Delicatessen|\n",
      "|               Pizza|\n",
      "|            Japanese|\n",
      "+--------------------+\n",
      "only showing top 20 rows\n",
      "\n"
     ]
    }
   ],
   "source": [
    "dfCuisine.show()"
   ]
  },
  {
   "cell_type": "code",
   "execution_count": 8,
   "metadata": {},
   "outputs": [],
   "source": [
    "dfCuisine = dfCuisine.groupBy('`CUISINE DESCRIPTION`').count()"
   ]
  },
  {
   "cell_type": "code",
   "execution_count": 9,
   "metadata": {},
   "outputs": [
    {
     "name": "stdout",
     "output_type": "stream",
     "text": [
      "+-------------------+-----+\n",
      "|CUISINE DESCRIPTION|count|\n",
      "+-------------------+-----+\n",
      "|   Pancakes/Waffles|   76|\n",
      "|   Chinese/Japanese|  246|\n",
      "|            Mexican| 4421|\n",
      "|      Jewish/Kosher| 1620|\n",
      "|             Bakery| 3538|\n",
      "|            Turkish|  340|\n",
      "|       Scandinavian|   20|\n",
      "|           Armenian|  140|\n",
      "|            Hotdogs|   86|\n",
      "|          Ethiopian|   68|\n",
      "|               Thai| 1453|\n",
      "|             Indian| 1727|\n",
      "|            Chinese|11948|\n",
      "|         Indonesian|   32|\n",
      "|          Soul Food|  292|\n",
      "|        Continental|  269|\n",
      "|            African|  415|\n",
      "|              Steak|  406|\n",
      "|             Creole|  188|\n",
      "|   CafÃ©/Coffee/Tea| 4965|\n",
      "+-------------------+-----+\n",
      "only showing top 20 rows\n",
      "\n"
     ]
    }
   ],
   "source": [
    "dfCuisine.show()"
   ]
  },
  {
   "cell_type": "code",
   "execution_count": 10,
   "metadata": {
    "collapsed": true
   },
   "outputs": [],
   "source": [
    "dfCuisine = dfCuisine.sort('count', ascending = False)"
   ]
  },
  {
   "cell_type": "code",
   "execution_count": 21,
   "metadata": {},
   "outputs": [
    {
     "name": "stdout",
     "output_type": "stream",
     "text": [
      "+----------------------------------------------------------------+-----+\n",
      "|CUISINE DESCRIPTION                                             |count|\n",
      "+----------------------------------------------------------------+-----+\n",
      "|American                                                        |25818|\n",
      "|Chinese                                                         |11948|\n",
      "|Pizza                                                           |5341 |\n",
      "|Latin (Cuban, Dominican, Puerto Rican, South & Central American)|5247 |\n",
      "|Italian                                                         |5069 |\n",
      "|CafÃ©/Coffee/Tea                                                |4965 |\n",
      "|Mexican                                                         |4421 |\n",
      "|Japanese                                                        |4242 |\n",
      "|Caribbean                                                       |3817 |\n",
      "|Bakery                                                          |3538 |\n",
      "|Spanish                                                         |3394 |\n",
      "|Pizza/Italian                                                   |2473 |\n",
      "|Chicken                                                         |1832 |\n",
      "|Delicatessen                                                    |1816 |\n",
      "|Asian                                                           |1761 |\n",
      "|Indian                                                          |1727 |\n",
      "|Donuts                                                          |1710 |\n",
      "|Jewish/Kosher                                                   |1620 |\n",
      "|Hamburgers                                                      |1585 |\n",
      "|Korean                                                          |1504 |\n",
      "|Thai                                                            |1453 |\n",
      "|French                                                          |1431 |\n",
      "|Sandwiches                                                      |1345 |\n",
      "|Mediterranean                                                   |1104 |\n",
      "|Juice, Smoothies, Fruit Salads                                  |978  |\n",
      "|Irish                                                           |910  |\n",
      "|Sandwiches/Salads/Mixed Buffet                                  |898  |\n",
      "|Ice Cream, Gelato, Yogurt, Ices                                 |852  |\n",
      "|Bagels/Pretzels                                                 |816  |\n",
      "|Seafood                                                         |815  |\n",
      "|Middle Eastern                                                  |753  |\n",
      "|Other                                                           |707  |\n",
      "|Tex-Mex                                                         |672  |\n",
      "|Greek                                                           |652  |\n",
      "|Vegetarian                                                      |464  |\n",
      "|Vietnamese/Cambodian/Malaysia                                   |458  |\n",
      "|Peruvian                                                        |453  |\n",
      "|African                                                         |415  |\n",
      "|Steak                                                           |406  |\n",
      "|Russian                                                         |404  |\n",
      "|Eastern European                                                |354  |\n",
      "|Bottled beverages, including water, sodas, juices, etc.         |347  |\n",
      "|Turkish                                                         |340  |\n",
      "|Soul Food                                                       |292  |\n",
      "|Bangladeshi                                                     |290  |\n",
      "|Continental                                                     |269  |\n",
      "|Chinese/Japanese                                                |246  |\n",
      "|Barbecue                                                        |244  |\n",
      "|Salads                                                          |207  |\n",
      "|Pakistani                                                       |203  |\n",
      "|Filipino                                                        |199  |\n",
      "|Creole                                                          |188  |\n",
      "|German                                                          |183  |\n",
      "|Polish                                                          |166  |\n",
      "|Armenian                                                        |140  |\n",
      "|Tapas                                                           |140  |\n",
      "|Soups & Sandwiches                                              |136  |\n",
      "|Brazilian                                                       |135  |\n",
      "|Chinese/Cuban                                                   |103  |\n",
      "|English                                                         |88   |\n",
      "|Hotdogs                                                         |86   |\n",
      "|Pancakes/Waffles                                                |76   |\n",
      "|Afghan                                                          |74   |\n",
      "|Hawaiian                                                        |71   |\n",
      "|Ethiopian                                                       |68   |\n",
      "|Moroccan                                                        |64   |\n",
      "|Australian                                                      |58   |\n",
      "|Egyptian                                                        |56   |\n",
      "|Hotdogs/Pretzels                                                |50   |\n",
      "|Cajun                                                           |41   |\n",
      "|Portuguese                                                      |40   |\n",
      "|Southwestern                                                    |35   |\n",
      "|Creole/Cajun                                                    |34   |\n",
      "|Indonesian                                                      |32   |\n",
      "|Californian                                                     |26   |\n",
      "|Not Listed/Not Applicable                                       |24   |\n",
      "|Fruits/Vegetables                                               |21   |\n",
      "|Scandinavian                                                    |20   |\n",
      "|Nuts/Confectionary                                              |19   |\n",
      "|Chilean                                                         |19   |\n",
      "|Iranian                                                         |18   |\n",
      "|Polynesian                                                      |9    |\n",
      "|Basque                                                          |8    |\n",
      "|Czech                                                           |8    |\n",
      "|Soups                                                           |7    |\n",
      "+----------------------------------------------------------------+-----+\n",
      "\n"
     ]
    }
   ],
   "source": [
    "dfCuisine.show(85, False)"
   ]
  },
  {
   "cell_type": "code",
   "execution_count": 19,
   "metadata": {},
   "outputs": [
    {
     "data": {
      "text/plain": [
       "85"
      ]
     },
     "execution_count": 19,
     "metadata": {},
     "output_type": "execute_result"
    }
   ],
   "source": [
    "dfCuisine.count()"
   ]
  },
  {
   "cell_type": "code",
   "execution_count": null,
   "metadata": {
    "collapsed": true
   },
   "outputs": [],
   "source": []
  }
 ],
 "metadata": {
  "kernelspec": {
   "display_name": "Python 2",
   "language": "python",
   "name": "python2"
  },
  "language_info": {
   "codemirror_mode": {
    "name": "ipython",
    "version": 2
   },
   "file_extension": ".py",
   "mimetype": "text/x-python",
   "name": "python",
   "nbconvert_exporter": "python",
   "pygments_lexer": "ipython2",
   "version": "2.7.14"
  }
 },
 "nbformat": 4,
 "nbformat_minor": 2
}
